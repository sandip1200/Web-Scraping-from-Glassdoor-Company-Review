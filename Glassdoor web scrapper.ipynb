{
 "cells": [
  {
   "cell_type": "code",
   "execution_count": 1,
   "metadata": {},
   "outputs": [],
   "source": [
    "#Import Libraries\n",
    "import requests\n",
    "from bs4 import BeautifulSoup\n",
    "import pandas as pd"
   ]
  },
  {
   "cell_type": "code",
   "execution_count": 2,
   "metadata": {},
   "outputs": [],
   "source": [
    "#Request hearder\n",
    "headers = requests.utils.default_headers()"
   ]
  },
  {
   "cell_type": "code",
   "execution_count": 3,
   "metadata": {},
   "outputs": [],
   "source": [
    "headers.update({\n",
    "    'User-Agent': 'Mozilla/5.0 (X11; Ubuntu; Linux x86_64; rv:52.0) Gecko/20100101 Firefox/52.0',\n",
    "})"
   ]
  },
  {
   "cell_type": "code",
   "execution_count": 4,
   "metadata": {},
   "outputs": [
    {
     "name": "stdout",
     "output_type": "stream",
     "text": [
      "https://www.glassdoor.co.in/Reviews/Google-Reviews-E9079_P1.htm?sort.sortType=RD&sort.ascending=false\n",
      "https://www.glassdoor.co.in/Reviews/Google-Reviews-E9079_P2.htm?sort.sortType=RD&sort.ascending=false\n",
      "https://www.glassdoor.co.in/Reviews/Google-Reviews-E9079_P3.htm?sort.sortType=RD&sort.ascending=false\n",
      "https://www.glassdoor.co.in/Reviews/Google-Reviews-E9079_P4.htm?sort.sortType=RD&sort.ascending=false\n",
      "https://www.glassdoor.co.in/Reviews/Google-Reviews-E9079_P5.htm?sort.sortType=RD&sort.ascending=false\n",
      "https://www.glassdoor.co.in/Reviews/Google-Reviews-E9079_P6.htm?sort.sortType=RD&sort.ascending=false\n",
      "https://www.glassdoor.co.in/Reviews/Google-Reviews-E9079_P7.htm?sort.sortType=RD&sort.ascending=false\n",
      "https://www.glassdoor.co.in/Reviews/Google-Reviews-E9079_P8.htm?sort.sortType=RD&sort.ascending=false\n",
      "https://www.glassdoor.co.in/Reviews/Google-Reviews-E9079_P9.htm?sort.sortType=RD&sort.ascending=false\n",
      "https://www.glassdoor.co.in/Reviews/Google-Reviews-E9079_P10.htm?sort.sortType=RD&sort.ascending=false\n",
      "https://www.glassdoor.co.in/Reviews/Google-Reviews-E9079_P11.htm?sort.sortType=RD&sort.ascending=false\n",
      "https://www.glassdoor.co.in/Reviews/Google-Reviews-E9079_P12.htm?sort.sortType=RD&sort.ascending=false\n",
      "https://www.glassdoor.co.in/Reviews/Google-Reviews-E9079_P13.htm?sort.sortType=RD&sort.ascending=false\n",
      "https://www.glassdoor.co.in/Reviews/Google-Reviews-E9079_P14.htm?sort.sortType=RD&sort.ascending=false\n",
      "https://www.glassdoor.co.in/Reviews/Google-Reviews-E9079_P15.htm?sort.sortType=RD&sort.ascending=false\n",
      "https://www.glassdoor.co.in/Reviews/Google-Reviews-E9079_P16.htm?sort.sortType=RD&sort.ascending=false\n",
      "https://www.glassdoor.co.in/Reviews/Google-Reviews-E9079_P17.htm?sort.sortType=RD&sort.ascending=false\n",
      "https://www.glassdoor.co.in/Reviews/Google-Reviews-E9079_P18.htm?sort.sortType=RD&sort.ascending=false\n",
      "https://www.glassdoor.co.in/Reviews/Google-Reviews-E9079_P19.htm?sort.sortType=RD&sort.ascending=false\n",
      "https://www.glassdoor.co.in/Reviews/Google-Reviews-E9079_P20.htm?sort.sortType=RD&sort.ascending=false\n",
      "https://www.glassdoor.co.in/Reviews/Google-Reviews-E9079_P21.htm?sort.sortType=RD&sort.ascending=false\n",
      "https://www.glassdoor.co.in/Reviews/Google-Reviews-E9079_P22.htm?sort.sortType=RD&sort.ascending=false\n",
      "https://www.glassdoor.co.in/Reviews/Google-Reviews-E9079_P23.htm?sort.sortType=RD&sort.ascending=false\n",
      "https://www.glassdoor.co.in/Reviews/Google-Reviews-E9079_P24.htm?sort.sortType=RD&sort.ascending=false\n",
      "https://www.glassdoor.co.in/Reviews/Google-Reviews-E9079_P25.htm?sort.sortType=RD&sort.ascending=false\n",
      "https://www.glassdoor.co.in/Reviews/Google-Reviews-E9079_P26.htm?sort.sortType=RD&sort.ascending=false\n",
      "https://www.glassdoor.co.in/Reviews/Google-Reviews-E9079_P27.htm?sort.sortType=RD&sort.ascending=false\n",
      "https://www.glassdoor.co.in/Reviews/Google-Reviews-E9079_P28.htm?sort.sortType=RD&sort.ascending=false\n",
      "https://www.glassdoor.co.in/Reviews/Google-Reviews-E9079_P29.htm?sort.sortType=RD&sort.ascending=false\n",
      "https://www.glassdoor.co.in/Reviews/Google-Reviews-E9079_P30.htm?sort.sortType=RD&sort.ascending=false\n",
      "https://www.glassdoor.co.in/Reviews/Google-Reviews-E9079_P31.htm?sort.sortType=RD&sort.ascending=false\n",
      "https://www.glassdoor.co.in/Reviews/Google-Reviews-E9079_P32.htm?sort.sortType=RD&sort.ascending=false\n",
      "https://www.glassdoor.co.in/Reviews/Google-Reviews-E9079_P33.htm?sort.sortType=RD&sort.ascending=false\n",
      "https://www.glassdoor.co.in/Reviews/Google-Reviews-E9079_P34.htm?sort.sortType=RD&sort.ascending=false\n",
      "https://www.glassdoor.co.in/Reviews/Google-Reviews-E9079_P35.htm?sort.sortType=RD&sort.ascending=false\n",
      "https://www.glassdoor.co.in/Reviews/Google-Reviews-E9079_P36.htm?sort.sortType=RD&sort.ascending=false\n",
      "https://www.glassdoor.co.in/Reviews/Google-Reviews-E9079_P37.htm?sort.sortType=RD&sort.ascending=false\n",
      "https://www.glassdoor.co.in/Reviews/Google-Reviews-E9079_P38.htm?sort.sortType=RD&sort.ascending=false\n",
      "https://www.glassdoor.co.in/Reviews/Google-Reviews-E9079_P39.htm?sort.sortType=RD&sort.ascending=false\n",
      "https://www.glassdoor.co.in/Reviews/Google-Reviews-E9079_P40.htm?sort.sortType=RD&sort.ascending=false\n",
      "https://www.glassdoor.co.in/Reviews/Google-Reviews-E9079_P41.htm?sort.sortType=RD&sort.ascending=false\n",
      "https://www.glassdoor.co.in/Reviews/Google-Reviews-E9079_P42.htm?sort.sortType=RD&sort.ascending=false\n",
      "https://www.glassdoor.co.in/Reviews/Google-Reviews-E9079_P43.htm?sort.sortType=RD&sort.ascending=false\n",
      "https://www.glassdoor.co.in/Reviews/Google-Reviews-E9079_P44.htm?sort.sortType=RD&sort.ascending=false\n",
      "https://www.glassdoor.co.in/Reviews/Google-Reviews-E9079_P45.htm?sort.sortType=RD&sort.ascending=false\n",
      "https://www.glassdoor.co.in/Reviews/Google-Reviews-E9079_P46.htm?sort.sortType=RD&sort.ascending=false\n",
      "https://www.glassdoor.co.in/Reviews/Google-Reviews-E9079_P47.htm?sort.sortType=RD&sort.ascending=false\n",
      "https://www.glassdoor.co.in/Reviews/Google-Reviews-E9079_P48.htm?sort.sortType=RD&sort.ascending=false\n",
      "https://www.glassdoor.co.in/Reviews/Google-Reviews-E9079_P49.htm?sort.sortType=RD&sort.ascending=false\n"
     ]
    }
   ],
   "source": [
    "#Extracing pages\n",
    "for page_number in range(1,50):\n",
    "    print(\"https://www.glassdoor.co.in/Reviews/Google-Reviews-E9079\"+\"_P\"+str(page_number)+\".htm?sort.sortType=RD&sort.ascending=false\")\n"
   ]
  },
  {
   "cell_type": "code",
   "execution_count": 5,
   "metadata": {},
   "outputs": [],
   "source": [
    "get_text = lambda x: x.get_text(strip=True) if x else \"\"\n",
    "entries = []"
   ]
  },
  {
   "cell_type": "code",
   "execution_count": 6,
   "metadata": {},
   "outputs": [
    {
     "name": "stdout",
     "output_type": "stream",
     "text": [
      "<Response [200]>\n",
      "<Response [200]>\n",
      "<Response [200]>\n",
      "<Response [200]>\n",
      "<Response [200]>\n",
      "<Response [200]>\n",
      "<Response [200]>\n",
      "<Response [200]>\n",
      "<Response [200]>\n",
      "<Response [200]>\n",
      "<Response [200]>\n",
      "<Response [200]>\n",
      "<Response [200]>\n",
      "<Response [200]>\n",
      "<Response [200]>\n",
      "<Response [200]>\n",
      "<Response [200]>\n",
      "<Response [200]>\n",
      "<Response [200]>\n",
      "<Response [200]>\n",
      "<Response [200]>\n",
      "<Response [200]>\n",
      "<Response [200]>\n",
      "<Response [200]>\n",
      "<Response [200]>\n",
      "<Response [200]>\n",
      "<Response [200]>\n",
      "<Response [200]>\n",
      "<Response [200]>\n",
      "<Response [200]>\n",
      "<Response [200]>\n",
      "<Response [200]>\n",
      "<Response [200]>\n",
      "<Response [200]>\n",
      "<Response [200]>\n",
      "<Response [200]>\n",
      "<Response [200]>\n",
      "<Response [200]>\n",
      "<Response [200]>\n",
      "<Response [200]>\n",
      "<Response [200]>\n",
      "<Response [200]>\n",
      "<Response [200]>\n",
      "<Response [200]>\n",
      "<Response [200]>\n",
      "<Response [200]>\n",
      "<Response [200]>\n",
      "<Response [200]>\n",
      "<Response [200]>\n"
     ]
    }
   ],
   "source": [
    "#Scrapping 'n' pages from Glassdoor and clean the data. Here n=50\n",
    "for page_number in range(1,50):\n",
    "    url=requests.get(\"https://www.glassdoor.co.in/Reviews/Google-Reviews-E9079\"+\"_P\"+str(page_number)+\".htm?sort.sortType=RD&sort.ascending=false\", headers=headers)\n",
    "    print(url)\n",
    "    urlContent = BeautifulSoup(url.content,\"lxml\")\n",
    "    for entry in urlContent.find_all('div', class_='gdReview'):\n",
    "        dt=entry.find('time',class_=\"date subtle small\")\n",
    "        review = entry.find('a', class_=\"reviewLink\")\n",
    "        rating = entry.find('div',class_='v2__EIReviewsRatingsStylesV2__ratingNum v2__EIReviewsRatingsStylesV2__small')\n",
    "        rev_pros = entry.find(\"span\", {\"data-test\":\"pros\"})\n",
    "        rev_cons = entry.find(\"span\", {\"data-test\":\"cons\"})\n",
    "        location = entry.find('span', class_='authorLocation')\n",
    "        main= entry.find('p',class_='mainText mb-0')\n",
    "        job=entry.find('span',class_='authorJobTitle middle')\n",
    "       \n",
    "        entries.append([\n",
    "            get_text(dt),\n",
    "            get_text(review),\n",
    "            get_text(rating),\n",
    "            get_text(rev_pros),\n",
    "            get_text(rev_cons),\n",
    "            get_text(location),\n",
    "            get_text(main),\n",
    "            get_text(job)\n",
    "       \n",
    "        \n",
    "        ])"
   ]
  },
  {
   "cell_type": "code",
   "execution_count": 7,
   "metadata": {},
   "outputs": [],
   "source": [
    "#Create column name want to scrape\n",
    "columns = ['Date','Review Title', 'Overall Score', 'Pros', 'Cons', 'Jobs_Location','Review_Summary','Job Title']"
   ]
  },
  {
   "cell_type": "code",
   "execution_count": 8,
   "metadata": {},
   "outputs": [],
   "source": [
    "#Create dataframe with extracted values\n",
    "df = pd.DataFrame(entries, columns=columns)"
   ]
  },
  {
   "cell_type": "code",
   "execution_count": 9,
   "metadata": {},
   "outputs": [
    {
     "data": {
      "text/plain": [
       "(490, 8)"
      ]
     },
     "execution_count": 9,
     "metadata": {},
     "output_type": "execute_result"
    }
   ],
   "source": [
    "#Structure of the data frame\n",
    "df.shape"
   ]
  },
  {
   "cell_type": "code",
   "execution_count": 11,
   "metadata": {},
   "outputs": [
    {
     "data": {
      "text/html": [
       "<div>\n",
       "<style scoped>\n",
       "    .dataframe tbody tr th:only-of-type {\n",
       "        vertical-align: middle;\n",
       "    }\n",
       "\n",
       "    .dataframe tbody tr th {\n",
       "        vertical-align: top;\n",
       "    }\n",
       "\n",
       "    .dataframe thead th {\n",
       "        text-align: right;\n",
       "    }\n",
       "</style>\n",
       "<table border=\"1\" class=\"dataframe\">\n",
       "  <thead>\n",
       "    <tr style=\"text-align: right;\">\n",
       "      <th></th>\n",
       "      <th>Date</th>\n",
       "      <th>Review Title</th>\n",
       "      <th>Overall Score</th>\n",
       "      <th>Pros</th>\n",
       "      <th>Cons</th>\n",
       "      <th>Jobs_Location</th>\n",
       "      <th>Review_Summary</th>\n",
       "      <th>Job Title</th>\n",
       "    </tr>\n",
       "  </thead>\n",
       "  <tbody>\n",
       "    <tr>\n",
       "      <th>0</th>\n",
       "      <td>5 September 2020</td>\n",
       "      <td>\".\"</td>\n",
       "      <td>4.0</td>\n",
       "      <td>Food, Benefits, Compensation, Campus, Job secu...</td>\n",
       "      <td>No growth, beaurocratic, etc and so forth</td>\n",
       "      <td></td>\n",
       "      <td>I have been working at Google full-time</td>\n",
       "      <td>Current Employee - Google SWE</td>\n",
       "    </tr>\n",
       "    <tr>\n",
       "      <th>1</th>\n",
       "      <td>5 September 2020</td>\n",
       "      <td>\"BEST place to work!!!\"</td>\n",
       "      <td>5.0</td>\n",
       "      <td>Good work life balance and casual environment.</td>\n",
       "      <td>Not any so far .</td>\n",
       "      <td></td>\n",
       "      <td>I have been working at Google full-time</td>\n",
       "      <td>Current Employee - Software Engineer</td>\n",
       "    </tr>\n",
       "    <tr>\n",
       "      <th>2</th>\n",
       "      <td>5 September 2020</td>\n",
       "      <td>\"Good pay\"</td>\n",
       "      <td>4.0</td>\n",
       "      <td>Good pay And good benefits at google</td>\n",
       "      <td>No work/life balance at google</td>\n",
       "      <td>Los Angeles, CA</td>\n",
       "      <td>I have been working at Google full-time</td>\n",
       "      <td>Current Employee - Software Engineer</td>\n",
       "    </tr>\n",
       "    <tr>\n",
       "      <th>3</th>\n",
       "      <td>5 September 2020</td>\n",
       "      <td>\"Great company\"</td>\n",
       "      <td>5.0</td>\n",
       "      <td>The perks and the people you meet</td>\n",
       "      <td>The projects you work on, feel like they have ...</td>\n",
       "      <td></td>\n",
       "      <td>I worked at Google full-time for more than a year</td>\n",
       "      <td>Former Employee - Software Engineer</td>\n",
       "    </tr>\n",
       "    <tr>\n",
       "      <th>4</th>\n",
       "      <td>5 September 2020</td>\n",
       "      <td>\"Quite a good company.\"</td>\n",
       "      <td>5.0</td>\n",
       "      <td>Passionate work experience with knowledge in d...</td>\n",
       "      <td>No cons. Totally amazing work culture.</td>\n",
       "      <td></td>\n",
       "      <td>I have been working at Google part-time</td>\n",
       "      <td>Current Employee - Anonymous Employee</td>\n",
       "    </tr>\n",
       "  </tbody>\n",
       "</table>\n",
       "</div>"
      ],
      "text/plain": [
       "               Date             Review Title Overall Score  \\\n",
       "0  5 September 2020                      \".\"           4.0   \n",
       "1  5 September 2020  \"BEST place to work!!!\"           5.0   \n",
       "2  5 September 2020               \"Good pay\"           4.0   \n",
       "3  5 September 2020          \"Great company\"           5.0   \n",
       "4  5 September 2020  \"Quite a good company.\"           5.0   \n",
       "\n",
       "                                                Pros  \\\n",
       "0  Food, Benefits, Compensation, Campus, Job secu...   \n",
       "1     Good work life balance and casual environment.   \n",
       "2               Good pay And good benefits at google   \n",
       "3                  The perks and the people you meet   \n",
       "4  Passionate work experience with knowledge in d...   \n",
       "\n",
       "                                                Cons    Jobs_Location  \\\n",
       "0          No growth, beaurocratic, etc and so forth                    \n",
       "1                                   Not any so far .                    \n",
       "2                     No work/life balance at google  Los Angeles, CA   \n",
       "3  The projects you work on, feel like they have ...                    \n",
       "4             No cons. Totally amazing work culture.                    \n",
       "\n",
       "                                      Review_Summary  \\\n",
       "0            I have been working at Google full-time   \n",
       "1            I have been working at Google full-time   \n",
       "2            I have been working at Google full-time   \n",
       "3  I worked at Google full-time for more than a year   \n",
       "4            I have been working at Google part-time   \n",
       "\n",
       "                               Job Title  \n",
       "0          Current Employee - Google SWE  \n",
       "1   Current Employee - Software Engineer  \n",
       "2   Current Employee - Software Engineer  \n",
       "3    Former Employee - Software Engineer  \n",
       "4  Current Employee - Anonymous Employee  "
      ]
     },
     "execution_count": 11,
     "metadata": {},
     "output_type": "execute_result"
    }
   ],
   "source": [
    "df.head()"
   ]
  },
  {
   "cell_type": "code",
   "execution_count": 12,
   "metadata": {},
   "outputs": [],
   "source": [
    "#Write output\n",
    "df.to_csv(r'\\GoogleReviews.csv',index=False)"
   ]
  },
  {
   "cell_type": "code",
   "execution_count": null,
   "metadata": {},
   "outputs": [],
   "source": []
  }
 ],
 "metadata": {
  "kernelspec": {
   "display_name": "Python 3",
   "language": "python",
   "name": "python3"
  },
  "language_info": {
   "codemirror_mode": {
    "name": "ipython",
    "version": 3
   },
   "file_extension": ".py",
   "mimetype": "text/x-python",
   "name": "python",
   "nbconvert_exporter": "python",
   "pygments_lexer": "ipython3",
   "version": "3.7.6"
  }
 },
 "nbformat": 4,
 "nbformat_minor": 4
}
